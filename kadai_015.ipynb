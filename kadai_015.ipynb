{
  "nbformat": 4,
  "nbformat_minor": 0,
  "metadata": {
    "colab": {
      "provenance": []
    },
    "kernelspec": {
      "name": "python3",
      "display_name": "Python 3"
    },
    "language_info": {
      "name": "python"
    }
  },
  "cells": [
    {
      "cell_type": "code",
      "execution_count": 8,
      "metadata": {
        "colab": {
          "base_uri": "https://localhost:8080/"
        },
        "id": "AZLwlcZ9S4YA",
        "outputId": "1509dc0d-a231-4e58-d267-4beb03600f5c"
      },
      "outputs": [
        {
          "output_type": "stream",
          "name": "stdout",
          "text": [
            "阿部 24\n"
          ]
        }
      ],
      "source": [
        "class Human:\n",
        "    def _Init_(self):\n",
        "        self.name = \"\"\n",
        "        self.age  = \"\"\n",
        "    def set_Name_And_Age(self, name, age):\n",
        "        self.name = name\n",
        "        self.age  = age\n",
        "    def printinfo(self):\n",
        "        print(self.name, self.age)\n",
        "\n",
        "human = Human()\n",
        "human.set_Name_And_Age(\"阿部\",24)\n",
        "\n",
        "human.printinfo()"
      ]
    }
  ]
}