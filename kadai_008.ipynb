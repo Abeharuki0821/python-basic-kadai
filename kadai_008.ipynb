{
  "nbformat": 4,
  "nbformat_minor": 0,
  "metadata": {
    "colab": {
      "provenance": []
    },
    "kernelspec": {
      "name": "python3",
      "display_name": "Python 3"
    },
    "language_info": {
      "name": "python"
    }
  },
  "cells": [
    {
      "cell_type": "code",
      "execution_count": 6,
      "metadata": {
        "colab": {
          "base_uri": "https://localhost:8080/"
        },
        "id": "0t_rczxJWV30",
        "outputId": "5cc42ca2-6f38-4d35-9a98-84e3dc2e78f7"
      },
      "outputs": [
        {
          "output_type": "stream",
          "name": "stdout",
          "text": [
            "FizzBuzz\n"
          ]
        }
      ],
      "source": [
        "var = 30\n",
        "\n",
        "if var % 3 == 0 and var % 5 == 0:\n",
        "     print(\"FizzBuzz\")\n",
        "elif var % 3 == 0:\n",
        "     print(\"Fizz\")\n",
        "elif var % 5 == 0:\n",
        "     print(\"Buzz\")"
      ]
    }
  ]
}