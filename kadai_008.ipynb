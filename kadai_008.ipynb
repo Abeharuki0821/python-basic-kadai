{
  "nbformat": 4,
  "nbformat_minor": 0,
  "metadata": {
    "colab": {
      "provenance": []
    },
    "kernelspec": {
      "name": "python3",
      "display_name": "Python 3"
    },
    "language_info": {
      "name": "python"
    }
  },
  "cells": [
    {
      "cell_type": "code",
      "execution_count": 2,
      "metadata": {
        "colab": {
          "base_uri": "https://localhost:8080/"
        },
        "id": "0t_rczxJWV30",
        "outputId": "c948acc0-0085-4ca3-be5f-ca8d6d0f15dd"
      },
      "outputs": [
        {
          "output_type": "stream",
          "name": "stdout",
          "text": [
            "FizzBuzz\n"
          ]
        }
      ],
      "source": [
        "var = 30\n",
        "\n",
        "if var % 3 == 0 and var % 5 == 0:\n",
        "     print(\"FizzBuzz\")\n",
        "elif var % 3 == 0:\n",
        "     print(\"Fizz\")\n",
        "elif var % 5 == 0:\n",
        "     print(\"Buzz\")\n",
        "else :\n",
        "     print(var)"
      ]
    }
  ]
}
