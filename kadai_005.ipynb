{
  "nbformat": 4,
  "nbformat_minor": 0,
  "metadata": {
    "colab": {
      "provenance": []
    },
    "kernelspec": {
      "name": "python3",
      "display_name": "Python 3"
    },
    "language_info": {
      "name": "python"
    }
  },
  "cells": [
    {
      "cell_type": "code",
      "source": [
        "jou_hen = 10\n",
        "ka_hen = 20\n",
        "takasa = 5\n",
        "\n",
        "menseki = (jou_hen+ka_hen)*takasa / 2\n",
        "print(f\"{menseki}\" +\"cm²\")"
      ],
      "metadata": {
        "colab": {
          "base_uri": "https://localhost:8080/"
        },
        "id": "L9szlSyO6uWA",
        "outputId": "3541e83b-6972-4a13-ac46-1e91e5d56041"
      },
      "execution_count": 22,
      "outputs": [
        {
          "output_type": "stream",
          "name": "stdout",
          "text": [
            "80.0cm²\n"
          ]
        }
      ]
    }
  ]
}