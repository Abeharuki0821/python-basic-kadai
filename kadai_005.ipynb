{
  "nbformat": 4,
  "nbformat_minor": 0,
  "metadata": {
    "colab": {
      "provenance": []
    },
    "kernelspec": {
      "name": "python3",
      "display_name": "Python 3"
    },
    "language_info": {
      "name": "python"
    }
  },
  "cells": [
    {
      "cell_type": "code",
      "source": [
        "jou_hen = 10\n",
        "ka_hen = 20\n",
        "takasa = 5\n",
        "\n",
        "print(\"台形の面積：\" + str((jou_hen+ka_hen)*takasa / 2) +\"cm²\")"
      ],
      "metadata": {
        "colab": {
          "base_uri": "https://localhost:8080/"
        },
        "id": "L9szlSyO6uWA",
        "outputId": "c2377e99-13ef-4f77-eec1-af8a39ed76b2"
      },
      "execution_count": 14,
      "outputs": [
        {
          "output_type": "stream",
          "name": "stdout",
          "text": [
            "台形の面積：75.0cm²\n"
          ]
        }
      ]
    }
  ]
}
