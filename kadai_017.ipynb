{
  "nbformat": 4,
  "nbformat_minor": 0,
  "metadata": {
    "colab": {
      "provenance": []
    },
    "kernelspec": {
      "name": "python3",
      "display_name": "Python 3"
    },
    "language_info": {
      "name": "python"
    }
  },
  "cells": [
    {
      "cell_type": "code",
      "execution_count": 67,
      "metadata": {
        "id": "YZjQTOOvwUQm",
        "colab": {
          "base_uri": "https://localhost:8080/"
        },
        "outputId": "17e7f9d3-4d0f-46d3-f7aa-7b9990c2352c"
      },
      "outputs": [
        {
          "output_type": "stream",
          "name": "stdout",
          "text": [
            "Aさんは大人です\n",
            "Bさんは大人です\n",
            "Cさんは大人ではありません\n",
            "Dさんは大人です\n",
            "Eさんは大人ではありません\n"
          ]
        }
      ],
      "source": [
        "class Human:\n",
        "  def __init__(self, name, age):\n",
        "    self.name = name\n",
        "    self.age = age\n",
        "  def check_adult(self):\n",
        "    if self.age >= 20:\n",
        "      print(f\"{self.name}は大人です\")\n",
        "    else:\n",
        "      print(f\"{self.name}は大人ではありません\")\n",
        "\n",
        "people = {\"Aさん\":22,\"Bさん\":24,\"Cさん\":18,\"Dさん\":20,\"Eさん\":15}\n",
        "\n",
        "a = []\n",
        "for key, value in people.items():\n",
        "  a.append(Human(key,value))\n",
        "\n",
        "for list in a:\n",
        "  list.check_adult()\n"
      ]
    }
  ]
}
