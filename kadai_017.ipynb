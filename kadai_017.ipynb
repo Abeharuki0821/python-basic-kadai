{
  "nbformat": 4,
  "nbformat_minor": 0,
  "metadata": {
    "colab": {
      "provenance": []
    },
    "kernelspec": {
      "name": "python3",
      "display_name": "Python 3"
    },
    "language_info": {
      "name": "python"
    }
  },
  "cells": [
    {
      "cell_type": "code",
      "execution_count": 67,
      "metadata": {
        "id": "YZjQTOOvwUQm",
        "colab": {
          "base_uri": "https://localhost:8080/"
        },
        "outputId": "17e7f9d3-4d0f-46d3-f7aa-7b9990c2352c"
      },
      "outputs": [
        {
          "output_type": "stream",
          "name": "stdout",
          "text": [
            "A縺輔ｓ縺ｯ螟ｧ莠ｺ縺ｧ縺兔n",
            "B縺輔ｓ縺ｯ螟ｧ莠ｺ縺ｧ縺兔n",
            "C縺輔ｓ縺ｯ螟ｧ莠ｺ縺ｧ縺ｯ縺ゅｊ縺ｾ縺帙ｓ\n",
            "D縺輔ｓ縺ｯ螟ｧ莠ｺ縺ｧ縺兔n",
            "E縺輔ｓ縺ｯ螟ｧ莠ｺ縺ｧ縺ｯ縺ゅｊ縺ｾ縺帙ｓ\n"
          ]
        }
      ],
      "source": [
        "class Human:\n",
        "  def __init__(self, name, age):\n",
        "    self.name = name\n",
        "    self.age = age\n",
        "  def check_adult(self):\n",
        "    if self.age >= 20:\n",
        "      print(f\"{self.name}縺ｯ螟ｧ莠ｺ縺ｧ縺兔")\n",
        "    else:\n",
        "      print(f\"{self.name}縺ｯ螟ｧ莠ｺ縺ｧ縺ｯ縺ゅｊ縺ｾ縺帙ｓ\")\n",
        "\n",
        "people = {\"A縺輔ｓ\":22,\"B縺輔ｓ\":24,\"C縺輔ｓ\":18,\"D縺輔ｓ\":20,\"E縺輔ｓ\":15}\n",
        "\n",
        "a = []\n",
        "for key, value in people.items():\n",
        "  a.append(Human(key,value))\n",
        "\n",
        "for list in a:\n",
        "  list.check_adult()\n"
      ]
    }
  ]
}
