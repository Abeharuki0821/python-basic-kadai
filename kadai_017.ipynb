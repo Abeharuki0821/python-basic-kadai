{
  "nbformat": 4,
  "nbformat_minor": 0,
  "metadata": {
    "colab": {
      "provenance": []
    },
    "kernelspec": {
      "name": "python3",
      "display_name": "Python 3"
    },
    "language_info": {
      "name": "python"
    }
  },
  "cells": [
    {
      "cell_type": "code",
      "execution_count": 29,
      "metadata": {
        "id": "YZjQTOOvwUQm",
        "colab": {
          "base_uri": "https://localhost:8080/"
        },
        "outputId": "2cb1b994-33a7-46c8-db54-3e23721c8393"
      },
      "outputs": [
        {
          "output_type": "stream",
          "name": "stdout",
          "text": [
            "Aさんは大人です\n",
            "Bさんは大人です\n",
            "Cさんは大人ではありません\n",
            "Dさんは大人です\n",
            "Eさんは大人ではありません\n"
          ]
        }
      ],
      "source": [
        "class Human:\n",
        "  def __init__(self, name, age):\n",
        "    self.name = name\n",
        "    self.age = age\n",
        "  def check_adult(self):\n",
        "    if self.age >= 20:\n",
        "      print(f\"{self.name}は大人です\")\n",
        "    else:\n",
        "      print(f\"{self.name}は大人ではありません\")\n",
        "\n",
        "people = {\"Aさん\":22,\"Bさん\":24,\"Cさん\":18,\"Dさん\":20,\"Eさん\":15}\n",
        "for name, age in people.items():\n",
        "  human = Human(name, age)\n",
        "  human.check_adult()"
      ]
    }
  ]
}