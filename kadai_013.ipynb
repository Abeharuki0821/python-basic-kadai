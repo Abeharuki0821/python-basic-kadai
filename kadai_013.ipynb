{
  "nbformat": 4,
  "nbformat_minor": 0,
  "metadata": {
    "colab": {
      "provenance": []
    },
    "kernelspec": {
      "name": "python3",
      "display_name": "Python 3"
    },
    "language_info": {
      "name": "python"
    }
  },
  "cells": [
    {
      "cell_type": "code",
      "execution_count": 5,
      "metadata": {
        "colab": {
          "base_uri": "https://localhost:8080/"
        },
        "id": "68YHRxTB5ZLT",
        "outputId": "b0807a2a-5e23-4e96-b404-fcdafd886926"
      },
      "outputs": [
        {
          "output_type": "stream",
          "name": "stdout",
          "text": [
            "121.00000000000001\n"
          ]
        }
      ],
      "source": [
        "def add_Consumption_Tax(price ,tax):\n",
        "  return price * ( 1 + tax / 100)\n",
        "\n",
        "print(add_Consumption_Tax(110,10))"
      ]
    }
  ]
}